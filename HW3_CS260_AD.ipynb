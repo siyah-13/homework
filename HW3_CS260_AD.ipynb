{
  "nbformat": 4,
  "nbformat_minor": 0,
  "metadata": {
    "kernelspec": {
      "display_name": "Python 3",
      "language": "python",
      "name": "python3"
    },
    "language_info": {
      "codemirror_mode": {
        "name": "ipython",
        "version": 3
      },
      "file_extension": ".py",
      "mimetype": "text/x-python",
      "name": "python",
      "nbconvert_exporter": "python",
      "pygments_lexer": "ipython3",
      "version": "3.6.6"
    },
    "colab": {
      "name": "cifar10_tutorial.ipynb",
      "provenance": []
    },
    "accelerator": "GPU",
    "widgets": {
      "application/vnd.jupyter.widget-state+json": {
        "b9426c9c524b4b5aa62e591f910318c7": {
          "model_module": "@jupyter-widgets/controls",
          "model_name": "HBoxModel",
          "state": {
            "_view_name": "HBoxView",
            "_dom_classes": [],
            "_model_name": "HBoxModel",
            "_view_module": "@jupyter-widgets/controls",
            "_model_module_version": "1.5.0",
            "_view_count": null,
            "_view_module_version": "1.5.0",
            "box_style": "",
            "layout": "IPY_MODEL_731ddc185e834b7d9ae37b88d2b373bf",
            "_model_module": "@jupyter-widgets/controls",
            "children": [
              "IPY_MODEL_711122ba42a94bed8426b1133270e565",
              "IPY_MODEL_0e777b24277a4638ac2545b005270881"
            ]
          }
        },
        "731ddc185e834b7d9ae37b88d2b373bf": {
          "model_module": "@jupyter-widgets/base",
          "model_name": "LayoutModel",
          "state": {
            "_view_name": "LayoutView",
            "grid_template_rows": null,
            "right": null,
            "justify_content": null,
            "_view_module": "@jupyter-widgets/base",
            "overflow": null,
            "_model_module_version": "1.2.0",
            "_view_count": null,
            "flex_flow": null,
            "width": null,
            "min_width": null,
            "border": null,
            "align_items": null,
            "bottom": null,
            "_model_module": "@jupyter-widgets/base",
            "top": null,
            "grid_column": null,
            "overflow_y": null,
            "overflow_x": null,
            "grid_auto_flow": null,
            "grid_area": null,
            "grid_template_columns": null,
            "flex": null,
            "_model_name": "LayoutModel",
            "justify_items": null,
            "grid_row": null,
            "max_height": null,
            "align_content": null,
            "visibility": null,
            "align_self": null,
            "height": null,
            "min_height": null,
            "padding": null,
            "grid_auto_rows": null,
            "grid_gap": null,
            "max_width": null,
            "order": null,
            "_view_module_version": "1.2.0",
            "grid_template_areas": null,
            "object_position": null,
            "object_fit": null,
            "grid_auto_columns": null,
            "margin": null,
            "display": null,
            "left": null
          }
        },
        "711122ba42a94bed8426b1133270e565": {
          "model_module": "@jupyter-widgets/controls",
          "model_name": "FloatProgressModel",
          "state": {
            "_view_name": "ProgressView",
            "style": "IPY_MODEL_44fcd9fd5f094d5e98cdc45d750de483",
            "_dom_classes": [],
            "description": "",
            "_model_name": "FloatProgressModel",
            "bar_style": "info",
            "max": 1,
            "_view_module": "@jupyter-widgets/controls",
            "_model_module_version": "1.5.0",
            "value": 1,
            "_view_count": null,
            "_view_module_version": "1.5.0",
            "orientation": "horizontal",
            "min": 0,
            "description_tooltip": null,
            "_model_module": "@jupyter-widgets/controls",
            "layout": "IPY_MODEL_d6eedc38299044c0ab9ac0a1c152905a"
          }
        },
        "0e777b24277a4638ac2545b005270881": {
          "model_module": "@jupyter-widgets/controls",
          "model_name": "HTMLModel",
          "state": {
            "_view_name": "HTMLView",
            "style": "IPY_MODEL_2d018e9af2354e67a70179c7b36d223c",
            "_dom_classes": [],
            "description": "",
            "_model_name": "HTMLModel",
            "placeholder": "​",
            "_view_module": "@jupyter-widgets/controls",
            "_model_module_version": "1.5.0",
            "value": " 170500096/? [00:20&lt;00:00, 53058668.20it/s]",
            "_view_count": null,
            "_view_module_version": "1.5.0",
            "description_tooltip": null,
            "_model_module": "@jupyter-widgets/controls",
            "layout": "IPY_MODEL_9ceb63215ee94a2590002cdf395207eb"
          }
        },
        "44fcd9fd5f094d5e98cdc45d750de483": {
          "model_module": "@jupyter-widgets/controls",
          "model_name": "ProgressStyleModel",
          "state": {
            "_view_name": "StyleView",
            "_model_name": "ProgressStyleModel",
            "description_width": "initial",
            "_view_module": "@jupyter-widgets/base",
            "_model_module_version": "1.5.0",
            "_view_count": null,
            "_view_module_version": "1.2.0",
            "bar_color": null,
            "_model_module": "@jupyter-widgets/controls"
          }
        },
        "d6eedc38299044c0ab9ac0a1c152905a": {
          "model_module": "@jupyter-widgets/base",
          "model_name": "LayoutModel",
          "state": {
            "_view_name": "LayoutView",
            "grid_template_rows": null,
            "right": null,
            "justify_content": null,
            "_view_module": "@jupyter-widgets/base",
            "overflow": null,
            "_model_module_version": "1.2.0",
            "_view_count": null,
            "flex_flow": null,
            "width": null,
            "min_width": null,
            "border": null,
            "align_items": null,
            "bottom": null,
            "_model_module": "@jupyter-widgets/base",
            "top": null,
            "grid_column": null,
            "overflow_y": null,
            "overflow_x": null,
            "grid_auto_flow": null,
            "grid_area": null,
            "grid_template_columns": null,
            "flex": null,
            "_model_name": "LayoutModel",
            "justify_items": null,
            "grid_row": null,
            "max_height": null,
            "align_content": null,
            "visibility": null,
            "align_self": null,
            "height": null,
            "min_height": null,
            "padding": null,
            "grid_auto_rows": null,
            "grid_gap": null,
            "max_width": null,
            "order": null,
            "_view_module_version": "1.2.0",
            "grid_template_areas": null,
            "object_position": null,
            "object_fit": null,
            "grid_auto_columns": null,
            "margin": null,
            "display": null,
            "left": null
          }
        },
        "2d018e9af2354e67a70179c7b36d223c": {
          "model_module": "@jupyter-widgets/controls",
          "model_name": "DescriptionStyleModel",
          "state": {
            "_view_name": "StyleView",
            "_model_name": "DescriptionStyleModel",
            "description_width": "",
            "_view_module": "@jupyter-widgets/base",
            "_model_module_version": "1.5.0",
            "_view_count": null,
            "_view_module_version": "1.2.0",
            "_model_module": "@jupyter-widgets/controls"
          }
        },
        "9ceb63215ee94a2590002cdf395207eb": {
          "model_module": "@jupyter-widgets/base",
          "model_name": "LayoutModel",
          "state": {
            "_view_name": "LayoutView",
            "grid_template_rows": null,
            "right": null,
            "justify_content": null,
            "_view_module": "@jupyter-widgets/base",
            "overflow": null,
            "_model_module_version": "1.2.0",
            "_view_count": null,
            "flex_flow": null,
            "width": null,
            "min_width": null,
            "border": null,
            "align_items": null,
            "bottom": null,
            "_model_module": "@jupyter-widgets/base",
            "top": null,
            "grid_column": null,
            "overflow_y": null,
            "overflow_x": null,
            "grid_auto_flow": null,
            "grid_area": null,
            "grid_template_columns": null,
            "flex": null,
            "_model_name": "LayoutModel",
            "justify_items": null,
            "grid_row": null,
            "max_height": null,
            "align_content": null,
            "visibility": null,
            "align_self": null,
            "height": null,
            "min_height": null,
            "padding": null,
            "grid_auto_rows": null,
            "grid_gap": null,
            "max_width": null,
            "order": null,
            "_view_module_version": "1.2.0",
            "grid_template_areas": null,
            "object_position": null,
            "object_fit": null,
            "grid_auto_columns": null,
            "margin": null,
            "display": null,
            "left": null
          }
        }
      }
    }
  },
  "cells": [
    {
      "cell_type": "markdown",
      "metadata": {
        "id": "L_HOt51rmXhv"
      },
      "source": [
        "**HOMEWORK 3 --- CS 260 **\n",
        "\n",
        "**AMIR DHILLON** \n",
        "**UID: 005-649-833** "
      ]
    },
    {
      "cell_type": "code",
      "metadata": {
        "id": "ph0jPnG9X7Px"
      },
      "source": [
        "%matplotlib inline"
      ],
      "execution_count": 1,
      "outputs": []
    },
    {
      "cell_type": "code",
      "metadata": {
        "id": "wN8i134ZeUtt"
      },
      "source": [
        "import torch\n",
        "import torch.nn as nn\n",
        "import torch.optim as optim\n",
        "import torchvision.transforms as transforms\n",
        "import torchvision.datasets as datasets\n",
        "import torch.nn.functional as F\n",
        "import numpy as np\n",
        "import torch.utils.data as td\n",
        "import random, time\n",
        "import matplotlib.pyplot as plt\n",
        "import torchvision"
      ],
      "execution_count": 2,
      "outputs": []
    },
    {
      "cell_type": "code",
      "metadata": {
        "id": "L9ta_t_seZoE",
        "outputId": "1fd75823-ca56-4f0a-f43a-ee8c3e6628b6",
        "colab": {
          "base_uri": "https://localhost:8080/"
        }
      },
      "source": [
        "%tensorflow_version 2.x\n",
        "import tensorflow as tf\n",
        "device_name = tf.test.gpu_device_name()\n",
        "if device_name != '/device:GPU:0':\n",
        "  raise SystemError('GPU device not found')\n",
        "print('Found GPU at: {}'.format(device_name))"
      ],
      "execution_count": 3,
      "outputs": [
        {
          "output_type": "stream",
          "text": [
            "Found GPU at: /device:GPU:0\n"
          ],
          "name": "stdout"
        }
      ]
    },
    {
      "cell_type": "code",
      "metadata": {
        "id": "OR8kGKNqefPm",
        "outputId": "2bb1e788-6748-45a2-cdb8-cdc51f6429b1",
        "colab": {
          "base_uri": "https://localhost:8080/"
        }
      },
      "source": [
        "device = torch.device('cuda' if torch.cuda.is_available() else 'cpu')\n",
        "device"
      ],
      "execution_count": 4,
      "outputs": [
        {
          "output_type": "execute_result",
          "data": {
            "text/plain": [
              "device(type='cuda')"
            ]
          },
          "metadata": {
            "tags": []
          },
          "execution_count": 4
        }
      ]
    },
    {
      "cell_type": "markdown",
      "metadata": {
        "id": "KY8bOwfCX7P2"
      },
      "source": [
        "\n",
        "Training a Classifier\n",
        "=====================\n",
        "\n",
        "This is it. You have seen how to define neural networks, compute loss and make\n",
        "updates to the weights of the network.\n",
        "\n",
        "Now you might be thinking,\n",
        "\n",
        "What about data?\n",
        "----------------\n",
        "\n",
        "Generally, when you have to deal with image, text, audio or video data,\n",
        "you can use standard python packages that load data into a numpy array.\n",
        "Then you can convert this array into a ``torch.*Tensor``.\n",
        "\n",
        "-  For images, packages such as Pillow, OpenCV are useful\n",
        "-  For audio, packages such as scipy and librosa\n",
        "-  For text, either raw Python or Cython based loading, or NLTK and\n",
        "   SpaCy are useful\n",
        "\n",
        "Specifically for vision, we have created a package called\n",
        "``torchvision``, that has data loaders for common datasets such as\n",
        "Imagenet, CIFAR10, MNIST, etc. and data transformers for images, viz.,\n",
        "``torchvision.datasets`` and ``torch.utils.data.DataLoader``.\n",
        "\n",
        "This provides a huge convenience and avoids writing boilerplate code.\n",
        "\n",
        "For this tutorial, we will use the CIFAR10 dataset.\n",
        "It has the classes: ‘airplane’, ‘automobile’, ‘bird’, ‘cat’, ‘deer’,\n",
        "‘dog’, ‘frog’, ‘horse’, ‘ship’, ‘truck’. The images in CIFAR-10 are of\n",
        "size 3x32x32, i.e. 3-channel color images of 32x32 pixels in size.\n",
        "\n",
        ".. figure:: /_static/img/cifar10.png\n",
        "   :alt: cifar10\n",
        "\n",
        "   cifar10\n",
        "\n",
        "\n",
        "Training an image classifier\n",
        "----------------------------\n",
        "\n",
        "We will do the following steps in order:\n",
        "\n",
        "1. Load and normalizing the CIFAR10 training and test datasets using\n",
        "   ``torchvision``\n",
        "2. Define a Convolution Neural Network\n",
        "3. Define a loss function\n",
        "4. Train the network on the training data\n",
        "5. Test the network on the test data\n",
        "\n",
        "1. Loading and normalizing CIFAR10\n",
        "^^^^^^^^^^^^^^^^^^^^^^^^^^^^^^^^^^\n",
        "\n",
        "Using ``torchvision``, it’s extremely easy to load CIFAR10.\n",
        "\n"
      ]
    },
    {
      "cell_type": "markdown",
      "metadata": {
        "id": "6NB7g-USfHVY"
      },
      "source": [
        "**IMPORT DATA**"
      ]
    },
    {
      "cell_type": "code",
      "metadata": {
        "id": "5Cu54KRmfKdN",
        "outputId": "418c852e-2888-4d30-aa29-bbf6e550d79a",
        "colab": {
          "base_uri": "https://localhost:8080/",
          "height": 99,
          "referenced_widgets": [
            "b9426c9c524b4b5aa62e591f910318c7",
            "731ddc185e834b7d9ae37b88d2b373bf",
            "711122ba42a94bed8426b1133270e565",
            "0e777b24277a4638ac2545b005270881",
            "44fcd9fd5f094d5e98cdc45d750de483",
            "d6eedc38299044c0ab9ac0a1c152905a",
            "2d018e9af2354e67a70179c7b36d223c",
            "9ceb63215ee94a2590002cdf395207eb"
          ]
        }
      },
      "source": [
        "def cifar_loaders(batch_size, shuffle_test=False): \n",
        "    normalize = transforms.Normalize(mean=[0.485, 0.456, 0.406],\n",
        "                                     std=[0.225, 0.225, 0.225])\n",
        "    train = datasets.CIFAR10('./', train=True, download=True, \n",
        "        transform=transforms.Compose([\n",
        "            transforms.RandomHorizontalFlip(),\n",
        "            transforms.RandomCrop(32, 4),\n",
        "            transforms.ToTensor(),\n",
        "            normalize,\n",
        "        ]))\n",
        "    test = datasets.CIFAR10('./', train=False, \n",
        "        transform=transforms.Compose([transforms.ToTensor(), normalize]))\n",
        "    train_loader = torch.utils.data.DataLoader(train, batch_size=batch_size,\n",
        "        shuffle=True, pin_memory=True)\n",
        "    test_loader = torch.utils.data.DataLoader(test, batch_size=batch_size,\n",
        "        shuffle=shuffle_test, pin_memory=True)\n",
        "    return train_loader, test_loader\n",
        "\n",
        "batch_size = 4\n",
        "test_batch_size = 4\n",
        "\n",
        "train_loader, _ = cifar_loaders(batch_size)\n",
        "_, test_loader = cifar_loaders(test_batch_size)"
      ],
      "execution_count": 5,
      "outputs": [
        {
          "output_type": "stream",
          "text": [
            "Downloading https://www.cs.toronto.edu/~kriz/cifar-10-python.tar.gz to ./cifar-10-python.tar.gz\n"
          ],
          "name": "stdout"
        },
        {
          "output_type": "display_data",
          "data": {
            "application/vnd.jupyter.widget-view+json": {
              "model_id": "b9426c9c524b4b5aa62e591f910318c7",
              "version_minor": 0,
              "version_major": 2
            },
            "text/plain": [
              "HBox(children=(FloatProgress(value=1.0, bar_style='info', max=1.0), HTML(value='')))"
            ]
          },
          "metadata": {
            "tags": []
          }
        },
        {
          "output_type": "stream",
          "text": [
            "Extracting ./cifar-10-python.tar.gz to ./\n",
            "Files already downloaded and verified\n"
          ],
          "name": "stdout"
        }
      ]
    },
    {
      "cell_type": "markdown",
      "metadata": {
        "id": "-CoYNKYiX7P3"
      },
      "source": [
        "The output of torchvision datasets are PILImage images of range [0, 1].\n",
        "We transform them to Tensors of normalized range [-1, 1].\n",
        "\n"
      ]
    },
    {
      "cell_type": "markdown",
      "metadata": {
        "id": "rsW10KopX7P4"
      },
      "source": [
        "Let us show some of the training images, for fun.\n",
        "\n"
      ]
    },
    {
      "cell_type": "code",
      "metadata": {
        "id": "aiEVocA3X7P4",
        "outputId": "b53dd6ed-f832-4d18-f180-6dc06ad4f655",
        "colab": {
          "base_uri": "https://localhost:8080/",
          "height": 171
        }
      },
      "source": [
        "# functions to show an image\n",
        "classes = ('plane', 'car', 'bird', 'cat',\n",
        "           'deer', 'dog', 'frog', 'horse', 'ship', 'truck')\n",
        "\n",
        "def imshow(img):\n",
        "    img = img / 2 + 0.5     # unnormalize\n",
        "    npimg = img.numpy()\n",
        "    plt.imshow(np.transpose(npimg, (1, 2, 0)))\n",
        "\n",
        "\n",
        "# get some random training images\n",
        "dataiter = iter(train_loader)\n",
        "images, labels = dataiter.next()\n",
        "\n",
        "# show images\n",
        "imshow(torchvision.utils.make_grid(images))\n",
        "# print labels\n",
        "print(' '.join('%5s' % classes[labels[j]] for j in range(4)))"
      ],
      "execution_count": 6,
      "outputs": [
        {
          "output_type": "stream",
          "text": [
            "Clipping input data to the valid range for imshow with RGB data ([0..1] for floats or [0..255] for integers).\n"
          ],
          "name": "stderr"
        },
        {
          "output_type": "stream",
          "text": [
            "plane truck truck   dog\n"
          ],
          "name": "stdout"
        },
        {
          "output_type": "display_data",
          "data": {
            "image/png": "[encoded data removed]",
            "text/plain": [
              "<Figure size 432x288 with 1 Axes>"
            ]
          },
          "metadata": {
            "tags": [],
            "needs_background": "light"
          }
        }
      ]
    },
    {
      "cell_type": "markdown",
      "metadata": {
        "id": "8fm-dDIjj5ei"
      },
      "source": [
        "***MODIFY SECTION***\n",
        "\n",
        "**NOTE: IN THIS SECTION, UNCOMMENT THE MODEL THAT YOU WOULD LIKE TO UTILIZE AND COMMENT OUT THE TWO MODELS NOT BEING UTILZING. THIS IS THE ONLY SECTION THAT IS NOT MODIFIED**"
      ]
    },
    {
      "cell_type": "code",
      "metadata": {
        "id": "4PCD7aZKX7P4"
      },
      "source": [
        "#CNN\n",
        "import torch.nn as nn\n",
        "#import torch.nn.functional as F\n",
        "\n",
        "class Network(nn.Module):\n",
        "    def __ini__(self):\n",
        "        pass\n",
        "    def forward(self,x):\n",
        "        pass\n",
        "\n",
        "\n",
        "class Net(nn.Module):\n",
        "    def __init__(self):\n",
        "        super(Net, self).__init__()\n",
        "        self.conv1 = nn.Conv2d(3,32,5)\n",
        "        self.conv2 = nn.Conv2d(32,64,9)\n",
        "        self.conv3 = nn.Conv2d(64,128,9)\n",
        "        self.conv4 = nn.Conv2d(128,256,9)\n",
        "        self.fc1 = nn.Linear(256*4*4, 4096)\n",
        "        self.fc2 = nn.Linear(4096, 4096)\n",
        "        self.fc3 = nn.Linear(4096, 10)\n",
        "    def forward(self, x):\n",
        "        #x = F.relu(self.fc1(x))\n",
        "        x = F.relu(self.conv1(x))\n",
        "        x = F.relu(self.conv2(x))\n",
        "        x = F.relu(self.conv3(x))\n",
        "        x = F.relu(self.conv4(x))\n",
        "        x = x.view(-1, 4096)\n",
        "        x = F.relu(self.fc1(x))\n",
        "        x = F.relu(self.fc2(x))\n",
        "        x = self.fc3(x)\n",
        "        return x\n",
        "net = Net()\n",
        "net = net.to(device)\n",
        "\n",
        "\n",
        "#**************************************************\n",
        "#**************************************************\n",
        "# MLP\n",
        "\n",
        "#import torch.nn as nn\n",
        "\n",
        "#class Net(nn.Module):\n",
        "#    def __init__(self):\n",
        "#        super(Net, self).__init__()\n",
        "#        self.fc1 = nn.Linear(3*32*32, 4096)\n",
        "#        self.fc2 = nn.Linear(4096, 4096)\n",
        "#        self.fc3 = nn.Linear(4096, 4096)\n",
        "#        self.fc4 = nn.Linear(4096, 4096)\n",
        "#        self.fc5 = nn.Linear(4096,4096)\n",
        "#        self.fc6 = nn.Linear(4096,4096)\n",
        "#        self.fc7 = nn.Linear(4096, 10)\n",
        "#    def forward(self, x):\n",
        "#        x = x.view(-1, 3*32*32)\n",
        "#        x = F.relu(self.fc1(x))\n",
        "#        x = F.relu(self.fc2(x))\n",
        "#        x = F.relu(self.fc3(x))\n",
        "#        x = F.relu(self.fc4(x))\n",
        "#        x = F.relu(self.fc5(x))\n",
        "#        x = F.relu(self.fc6(x))\n",
        "#        x = F.relu(self.fc7(x))\n",
        "#        return x\n",
        "#net = Net()\n",
        "#net = net.to(device)\n",
        "\n",
        "\n",
        "#**************************************************\n",
        "#**************************************************\n",
        "\n",
        "#neural network without non-linear activation functions\n",
        "\n",
        "#import torch.nn as nn\n",
        "\n",
        "\n",
        "\n",
        "#class Network(nn.Module):\n",
        "#    def __ini__(self):\n",
        "#        pass\n",
        "#    def forward(self,x):\n",
        "#        pass\n",
        "\n",
        "\n",
        "#class Net(nn.Module):\n",
        "#    def __init__(self):\n",
        "#        super(Net, self).__init__()\n",
        "#        self.fc1 = nn.Linear(3*32*32, 4096)\n",
        "#        self.fc2 = nn.Linear(4096, 4096)\n",
        "#        self.fc3 = nn.Linear(4096, 4096)\n",
        "#        self.fc4 = nn.Linear(4096, 4096)\n",
        "#        self.fc5 = nn.Linear(4096, 4096)\n",
        "#        self.fc6 = nn.Linear(4096, 4096)\n",
        "#        self.fc7 = nn.Linear(4096, 10)\n",
        "#    def forward(self, x):\n",
        "#        x = x.view(-1, 3*32*32)\n",
        "#        x = self.fc1(x)\n",
        "#        x = self.fc2(x)\n",
        "#        x = self.fc3(x)\n",
        "#        x = self.fc4(x)\n",
        "#        x = self.fc5(x)\n",
        "#        x = self.fc6(x)\n",
        "#        x = self.fc7(x)\n",
        "#        return x\n",
        "#net = Net()\n",
        "#net = net.to(device)\n",
        "\n"
      ],
      "execution_count": 7,
      "outputs": []
    },
    {
      "cell_type": "markdown",
      "metadata": {
        "id": "pYC6-tbRX7P5"
      },
      "source": [
        "3. Define a Loss function and optimizer\n",
        "^^^^^^^^^^^^^^^^^^^^^^^^^^^^^^^^^^^^^^^\n",
        "\n",
        "\n"
      ]
    },
    {
      "cell_type": "code",
      "metadata": {
        "id": "95PZ5rAkX7P5"
      },
      "source": [
        "#import torch.optim as optim\n",
        "\n",
        "criterion = nn.CrossEntropyLoss()\n",
        "optimizer = optim.SGD(net.parameters(), lr=0.001, momentum=0.9)"
      ],
      "execution_count": 8,
      "outputs": []
    },
    {
      "cell_type": "markdown",
      "metadata": {
        "id": "TEehjqw8X7P5"
      },
      "source": [
        "4. Train the network\n",
        "^^^^^^^^^^^^^^^^^^^^\n",
        "\n",
        "This is when things start to get interesting.\n",
        "We simply have to loop over our data iterator, and feed the inputs to the\n",
        "network and optimize.\n",
        "\n"
      ]
    },
    {
      "cell_type": "code",
      "metadata": {
        "id": "NsE9mmffX7P6",
        "outputId": "077f685b-6965-4f65-a21b-c19c1f214c8e",
        "colab": {
          "base_uri": "https://localhost:8080/"
        }
      },
      "source": [
        "for epoch in range(35):  # loop over the dataset multiple times\n",
        "\n",
        "    running_loss = 0.0\n",
        "    for i, data in enumerate(train_loader, 0):\n",
        "        # get the inputs\n",
        "        inputs, labels = data\n",
        "        \n",
        "        # use gpu\n",
        "        inputs = inputs.to(device)\n",
        "        labels = labels.to(device)\n",
        "\n",
        "        # zero the parameter gradients\n",
        "        optimizer.zero_grad()\n",
        "\n",
        "        # forward + backward + optimize\n",
        "        outputs = net(inputs)\n",
        "        \n",
        "        loss = criterion(outputs, labels)\n",
        "        loss.backward()\n",
        "        optimizer.step()\n",
        "\n",
        "        # print statistics\n",
        "        running_loss += loss.item()\n",
        "        if i % 2000 == 1999:    # print every 2000 mini-batches\n",
        "            print('[%d, %5d] loss: %.3f' %\n",
        "                  (epoch + 1, i + 1, running_loss / 2000))\n",
        "            running_loss = 0.0\n",
        "\n",
        "print('Finished Training')\n",
        "\n",
        "PATH = './cifar_netpth'\n",
        "torch.save(net.state_dict(), PATH)\n"
      ],
      "execution_count": 9,
      "outputs": [
        {
          "output_type": "stream",
          "text": [
            "[1,  2000] loss: 2.122\n",
            "[1,  4000] loss: 1.938\n",
            "[1,  6000] loss: 1.807\n",
            "[1,  8000] loss: 1.757\n",
            "[1, 10000] loss: 1.674\n",
            "[1, 12000] loss: 1.626\n",
            "[2,  2000] loss: 1.561\n",
            "[2,  4000] loss: 1.550\n",
            "[2,  6000] loss: 1.491\n",
            "[2,  8000] loss: 1.456\n",
            "[2, 10000] loss: 1.422\n",
            "[2, 12000] loss: 1.377\n",
            "[3,  2000] loss: 1.338\n",
            "[3,  4000] loss: 1.335\n",
            "[3,  6000] loss: 1.296\n",
            "[3,  8000] loss: 1.254\n",
            "[3, 10000] loss: 1.242\n",
            "[3, 12000] loss: 1.244\n",
            "[4,  2000] loss: 1.201\n",
            "[4,  4000] loss: 1.172\n",
            "[4,  6000] loss: 1.154\n",
            "[4,  8000] loss: 1.149\n",
            "[4, 10000] loss: 1.142\n",
            "[4, 12000] loss: 1.118\n",
            "[5,  2000] loss: 1.060\n",
            "[5,  4000] loss: 1.098\n",
            "[5,  6000] loss: 1.076\n",
            "[5,  8000] loss: 1.084\n",
            "[5, 10000] loss: 1.077\n",
            "[5, 12000] loss: 1.062\n",
            "[6,  2000] loss: 1.007\n",
            "[6,  4000] loss: 1.022\n",
            "[6,  6000] loss: 1.001\n",
            "[6,  8000] loss: 1.009\n",
            "[6, 10000] loss: 0.983\n",
            "[6, 12000] loss: 0.991\n",
            "[7,  2000] loss: 0.962\n",
            "[7,  4000] loss: 0.964\n",
            "[7,  6000] loss: 0.975\n",
            "[7,  8000] loss: 0.926\n",
            "[7, 10000] loss: 0.956\n",
            "[7, 12000] loss: 0.937\n",
            "[8,  2000] loss: 0.889\n",
            "[8,  4000] loss: 0.914\n",
            "[8,  6000] loss: 0.889\n",
            "[8,  8000] loss: 0.891\n",
            "[8, 10000] loss: 0.905\n",
            "[8, 12000] loss: 0.907\n",
            "[9,  2000] loss: 0.875\n",
            "[9,  4000] loss: 0.882\n",
            "[9,  6000] loss: 0.877\n",
            "[9,  8000] loss: 0.844\n",
            "[9, 10000] loss: 0.865\n",
            "[9, 12000] loss: 0.870\n",
            "[10,  2000] loss: 0.833\n",
            "[10,  4000] loss: 0.825\n",
            "[10,  6000] loss: 0.856\n",
            "[10,  8000] loss: 0.852\n",
            "[10, 10000] loss: 0.829\n",
            "[10, 12000] loss: 0.840\n",
            "[11,  2000] loss: 0.787\n",
            "[11,  4000] loss: 0.821\n",
            "[11,  6000] loss: 0.789\n",
            "[11,  8000] loss: 0.809\n",
            "[11, 10000] loss: 0.814\n",
            "[11, 12000] loss: 0.824\n",
            "[12,  2000] loss: 0.780\n",
            "[12,  4000] loss: 0.775\n",
            "[12,  6000] loss: 0.795\n",
            "[12,  8000] loss: 0.803\n",
            "[12, 10000] loss: 0.793\n",
            "[12, 12000] loss: 0.775\n",
            "[13,  2000] loss: 0.750\n",
            "[13,  4000] loss: 0.761\n",
            "[13,  6000] loss: 0.751\n",
            "[13,  8000] loss: 0.762\n",
            "[13, 10000] loss: 0.760\n",
            "[13, 12000] loss: 0.751\n",
            "[14,  2000] loss: 0.728\n",
            "[14,  4000] loss: 0.722\n",
            "[14,  6000] loss: 0.743\n",
            "[14,  8000] loss: 0.755\n",
            "[14, 10000] loss: 0.726\n",
            "[14, 12000] loss: 0.763\n",
            "[15,  2000] loss: 0.717\n",
            "[15,  4000] loss: 0.704\n",
            "[15,  6000] loss: 0.746\n",
            "[15,  8000] loss: 0.708\n",
            "[15, 10000] loss: 0.750\n",
            "[15, 12000] loss: 0.734\n",
            "[16,  2000] loss: 0.710\n",
            "[16,  4000] loss: 0.696\n",
            "[16,  6000] loss: 0.703\n",
            "[16,  8000] loss: 0.722\n",
            "[16, 10000] loss: 0.686\n",
            "[16, 12000] loss: 0.701\n",
            "[17,  2000] loss: 0.670\n",
            "[17,  4000] loss: 0.695\n",
            "[17,  6000] loss: 0.683\n",
            "[17,  8000] loss: 0.667\n",
            "[17, 10000] loss: 0.686\n",
            "[17, 12000] loss: 0.677\n",
            "[18,  2000] loss: 0.661\n",
            "[18,  4000] loss: 0.690\n",
            "[18,  6000] loss: 0.648\n",
            "[18,  8000] loss: 0.674\n",
            "[18, 10000] loss: 0.686\n",
            "[18, 12000] loss: 0.673\n",
            "[19,  2000] loss: 0.654\n",
            "[19,  4000] loss: 0.647\n",
            "[19,  6000] loss: 0.660\n",
            "[19,  8000] loss: 0.677\n",
            "[19, 10000] loss: 0.656\n",
            "[19, 12000] loss: 0.669\n",
            "[20,  2000] loss: 0.636\n",
            "[20,  4000] loss: 0.627\n",
            "[20,  6000] loss: 0.628\n",
            "[20,  8000] loss: 0.657\n",
            "[20, 10000] loss: 0.656\n",
            "[20, 12000] loss: 0.671\n",
            "[21,  2000] loss: 0.621\n",
            "[21,  4000] loss: 0.628\n",
            "[21,  6000] loss: 0.631\n",
            "[21,  8000] loss: 0.641\n",
            "[21, 10000] loss: 0.656\n",
            "[21, 12000] loss: 0.636\n",
            "[22,  2000] loss: 0.618\n",
            "[22,  4000] loss: 0.604\n",
            "[22,  6000] loss: 0.587\n",
            "[22,  8000] loss: 0.613\n",
            "[22, 10000] loss: 0.656\n",
            "[22, 12000] loss: 0.663\n",
            "[23,  2000] loss: 0.607\n",
            "[23,  4000] loss: 0.618\n",
            "[23,  6000] loss: 0.606\n",
            "[23,  8000] loss: 0.618\n",
            "[23, 10000] loss: 0.617\n",
            "[23, 12000] loss: 0.637\n",
            "[24,  2000] loss: 0.580\n",
            "[24,  4000] loss: 0.576\n",
            "[24,  6000] loss: 0.583\n",
            "[24,  8000] loss: 0.606\n",
            "[24, 10000] loss: 0.625\n",
            "[24, 12000] loss: 0.600\n",
            "[25,  2000] loss: 0.563\n",
            "[25,  4000] loss: 0.582\n",
            "[25,  6000] loss: 0.599\n",
            "[25,  8000] loss: 0.602\n",
            "[25, 10000] loss: 0.592\n",
            "[25, 12000] loss: 0.614\n",
            "[26,  2000] loss: 0.582\n",
            "[26,  4000] loss: 0.577\n",
            "[26,  6000] loss: 0.573\n",
            "[26,  8000] loss: 0.595\n",
            "[26, 10000] loss: 0.591\n",
            "[26, 12000] loss: 0.602\n",
            "[27,  2000] loss: 0.542\n",
            "[27,  4000] loss: 0.599\n",
            "[27,  6000] loss: 0.579\n",
            "[27,  8000] loss: 0.583\n",
            "[27, 10000] loss: 0.560\n",
            "[27, 12000] loss: 0.579\n",
            "[28,  2000] loss: 0.552\n",
            "[28,  4000] loss: 0.557\n",
            "[28,  6000] loss: 0.569\n",
            "[28,  8000] loss: 0.574\n",
            "[28, 10000] loss: 0.599\n",
            "[28, 12000] loss: 0.589\n",
            "[29,  2000] loss: 0.560\n",
            "[29,  4000] loss: 0.552\n",
            "[29,  6000] loss: 0.561\n",
            "[29,  8000] loss: 0.573\n",
            "[29, 10000] loss: 0.548\n",
            "[29, 12000] loss: 0.552\n",
            "[30,  2000] loss: 0.534\n",
            "[30,  4000] loss: 0.534\n",
            "[30,  6000] loss: 0.544\n",
            "[30,  8000] loss: 0.559\n",
            "[30, 10000] loss: 0.551\n",
            "[30, 12000] loss: 0.573\n",
            "[31,  2000] loss: 0.532\n",
            "[31,  4000] loss: 0.539\n",
            "[31,  6000] loss: 0.558\n",
            "[31,  8000] loss: 0.542\n",
            "[31, 10000] loss: 0.557\n",
            "[31, 12000] loss: 0.551\n",
            "[32,  2000] loss: 0.541\n",
            "[32,  4000] loss: 0.546\n",
            "[32,  6000] loss: 0.527\n",
            "[32,  8000] loss: 0.537\n",
            "[32, 10000] loss: 0.556\n",
            "[32, 12000] loss: 0.546\n",
            "[33,  2000] loss: 0.522\n",
            "[33,  4000] loss: 0.519\n",
            "[33,  6000] loss: 0.505\n",
            "[33,  8000] loss: 0.548\n",
            "[33, 10000] loss: 0.537\n",
            "[33, 12000] loss: 0.548\n",
            "[34,  2000] loss: 0.503\n",
            "[34,  4000] loss: 0.522\n",
            "[34,  6000] loss: 0.506\n",
            "[34,  8000] loss: 0.505\n",
            "[34, 10000] loss: 0.543\n",
            "[34, 12000] loss: 0.553\n",
            "[35,  2000] loss: 0.515\n",
            "[35,  4000] loss: 0.519\n",
            "[35,  6000] loss: 0.521\n",
            "[35,  8000] loss: 0.510\n",
            "[35, 10000] loss: 0.516\n",
            "[35, 12000] loss: 0.539\n",
            "Finished Training\n"
          ],
          "name": "stdout"
        }
      ]
    },
    {
      "cell_type": "code",
      "metadata": {
        "id": "V7YN2M9OC_4t"
      },
      "source": [
        "PATH = './cifar_netpth'\n",
        "torch.save(net.state_dict(), PATH)"
      ],
      "execution_count": 31,
      "outputs": []
    },
    {
      "cell_type": "markdown",
      "metadata": {
        "id": "vA1SxXeDX7P6"
      },
      "source": [
        "5. Test the network on the test data\n",
        "^^^^^^^^^^^^^^^^^^^^^^^^^^^^^^^^^^^^\n",
        "\n",
        "We have trained the network for 2 passes over the training dataset.\n",
        "But we need to check if the network has learnt anything at all.\n",
        "\n",
        "We will check this by predicting the class label that the neural network\n",
        "outputs, and checking it against the ground-truth. If the prediction is\n",
        "correct, we add the sample to the list of correct predictions.\n",
        "\n",
        "Okay, first step. Let us display an image from the test set to get familiar.\n",
        "\n"
      ]
    },
    {
      "cell_type": "code",
      "metadata": {
        "id": "92A465myX7P6",
        "outputId": "95b01340-3e08-417f-86be-02c91270607a",
        "colab": {
          "base_uri": "https://localhost:8080/",
          "height": 171
        }
      },
      "source": [
        "dataiter = iter(test_loader)\n",
        "images, labels = dataiter.next()\n",
        "\n",
        "# print images\n",
        "imshow(torchvision.utils.make_grid(images))\n",
        "print('GroundTruth: ', ' '.join('%5s' % classes[labels[j]] for j in range(4)))"
      ],
      "execution_count": 32,
      "outputs": [
        {
          "output_type": "stream",
          "text": [
            "Clipping input data to the valid range for imshow with RGB data ([0..1] for floats or [0..255] for integers).\n"
          ],
          "name": "stderr"
        },
        {
          "output_type": "stream",
          "text": [
            "GroundTruth:    cat  ship  ship plane\n"
          ],
          "name": "stdout"
        },
        {
          "output_type": "display_data",
          "data": {
            "image/png": "[encoded data removed]",
            "text/plain": [
              "<Figure size 432x288 with 1 Axes>"
            ]
          },
          "metadata": {
            "tags": [],
            "needs_background": "light"
          }
        }
      ]
    },
    {
      "cell_type": "code",
      "metadata": {
        "id": "1DlDujofDUWK",
        "outputId": "08d50a7f-e009-4618-d9fb-c6442a2ef98b",
        "colab": {
          "base_uri": "https://localhost:8080/"
        }
      },
      "source": [
        "correct = 0\n",
        "total = 0\n",
        "with torch.no_grad():\n",
        "    for data in test_loader:\n",
        "        images, labels = data\n",
        "        images = images.to(device)\n",
        "        labels = labels.to(device)\n",
        "        outputs = net(images)\n",
        "        _, predicted = torch.max(outputs.data, 1)\n",
        "        total += labels.size(0)\n",
        "        correct += (predicted == labels).sum().item()\n",
        "\n",
        "print('Accuracy of the network on the 10000 test images: %d %%' % (\n",
        "    100 * correct / total))"
      ],
      "execution_count": 33,
      "outputs": [
        {
          "output_type": "stream",
          "text": [
            "Accuracy of the network on the 10000 test images: 56 %\n"
          ],
          "name": "stdout"
        }
      ]
    }
  ]
}